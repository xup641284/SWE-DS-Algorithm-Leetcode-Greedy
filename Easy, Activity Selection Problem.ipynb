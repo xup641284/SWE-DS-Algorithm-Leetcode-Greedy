{
 "cells": [
  {
   "cell_type": "markdown",
   "metadata": {},
   "source": [
    "# Greedy,  O(n.log(n))"
   ]
  },
  {
   "cell_type": "code",
   "execution_count": 1,
   "metadata": {},
   "outputs": [
    {
     "name": "stdout",
     "output_type": "stream",
     "text": [
      "[(1, 4), (12, 14), (5, 7), (8, 11)]\n"
     ]
    }
   ],
   "source": [
    "# Activity selection problem\n",
    "def selectActivity(activities):\n",
    " \n",
    "    # `k` keeps track of the index of the last selected activity\n",
    "    k = 0\n",
    " \n",
    "    # set to store the selected activities index\n",
    "    out = set()\n",
    " \n",
    "    # select 0 as the first activity\n",
    "    if len(activities):\n",
    "        out.add(0)\n",
    "\n",
    "    # sort the activities according to their finishing time\n",
    "    activities.sort(key=lambda x: x[1])\n",
    " \n",
    "    # start iterating from the second element of the\n",
    "    # list up to its last element\n",
    "    for i in range(1, len(activities)):\n",
    " \n",
    "        # if the start time of the i'th activity is greater or equal\n",
    "        # to the finish time of the last selected activity, it\n",
    "        # can be included in the activities list\n",
    " \n",
    "        if activities[i][0] >= activities[k][1]:\n",
    "            out.add(i)\n",
    "            k = i            # update `i` as the last selected activity\n",
    " \n",
    "    return out\n",
    " \n",
    "if __name__ == '__main__':\n",
    " \n",
    "    # List of given jobs. Each job has an identifier, a deadline, and a\n",
    "    # profit associated with it\n",
    "    activities = [(1, 4), (3, 5), (0, 6), (5, 7), (3, 8), (5, 9),\n",
    "                (6, 10), (8, 11), (8, 12), (2, 13), (12, 14)]\n",
    " \n",
    "    result = selectActivity(activities)\n",
    "    print([activities[i] for i in result])\n",
    " \n"
   ]
  },
  {
   "cell_type": "code",
   "execution_count": null,
   "metadata": {},
   "outputs": [],
   "source": []
  }
 ],
 "metadata": {
  "kernelspec": {
   "display_name": "Python 3",
   "language": "python",
   "name": "python3"
  },
  "language_info": {
   "codemirror_mode": {
    "name": "ipython",
    "version": 3
   },
   "file_extension": ".py",
   "mimetype": "text/x-python",
   "name": "python",
   "nbconvert_exporter": "python",
   "pygments_lexer": "ipython3",
   "version": "3.7.1"
  }
 },
 "nbformat": 4,
 "nbformat_minor": 2
}
