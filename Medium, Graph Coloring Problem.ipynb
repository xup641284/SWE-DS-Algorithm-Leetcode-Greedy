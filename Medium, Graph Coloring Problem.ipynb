{
 "cells": [
  {
   "cell_type": "markdown",
   "metadata": {},
   "source": [
    "# Greedy, O(V × E)"
   ]
  },
  {
   "cell_type": "code",
   "execution_count": 1,
   "metadata": {},
   "outputs": [
    {
     "name": "stdout",
     "output_type": "stream",
     "text": [
      "Color assigned to vertex 0 is BLUE\n",
      "Color assigned to vertex 1 is GREEN\n",
      "Color assigned to vertex 2 is BLUE\n",
      "Color assigned to vertex 3 is RED\n",
      "Color assigned to vertex 4 is RED\n",
      "Color assigned to vertex 5 is GREEN\n"
     ]
    }
   ],
   "source": [
    "\n",
    "# A class to represent a graph object\n",
    "class Graph:\n",
    "    def __init__(self, edges, n):\n",
    "        self.adjList = [[] for _ in range(n)]\n",
    " \n",
    "        # add edges to the undirected graph\n",
    "        for (src, dest) in edges:\n",
    "            self.adjList[src].append(dest)\n",
    "            self.adjList[dest].append(src)\n",
    " \n",
    " \n",
    "# Function to assign colors to vertices of a graph\n",
    "def colorGraph(graph, n):\n",
    " \n",
    "    # keep track of the color assigned to each vertex\n",
    "    result = {}\n",
    " \n",
    "    # assign a color to vertex one by one\n",
    "    for u in range(n):\n",
    " \n",
    "        # check colors of adjacent vertices of `u` and store them in a set\n",
    "        assigned = set([result.get(i) for i in graph.adjList[u] if i in result])\n",
    " \n",
    "        # check for the first free color\n",
    "        color = 1\n",
    "        for c in assigned:\n",
    "            if color != c:\n",
    "                break\n",
    "            color = color + 1\n",
    " \n",
    "        # assign vertex `u` the first available color\n",
    "        result[u] = color\n",
    " \n",
    "    for v in range(n):\n",
    "        print(f'Color assigned to vertex {v} is {colors[result[v]]}')\n",
    " \n",
    " \n",
    "# Greedy coloring of a graph\n",
    "if __name__ == '__main__':\n",
    " \n",
    "    # Add more colors for graphs with many more vertices\n",
    "    colors = ['', 'BLUE', 'GREEN', 'RED', 'YELLOW', 'ORANGE', 'PINK',\n",
    "            'BLACK', 'BROWN', 'WHITE', 'PURPLE', 'VOILET']\n",
    " \n",
    "    # List of graph edges as per the above diagram\n",
    "    edges = [(0, 1), (0, 4), (0, 5), (4, 5), (1, 4), (1, 3), (2, 3), (2, 4)]\n",
    " \n",
    "    # total number of nodes in the graph (labelled from 0 to 5)\n",
    "    n = 6\n",
    " \n",
    "    # build a graph from the given edges\n",
    "    graph = Graph(edges, n)\n",
    " \n",
    "    # color graph using the greedy algorithm\n",
    "    colorGraph(graph, n)\n",
    " \n"
   ]
  },
  {
   "cell_type": "code",
   "execution_count": null,
   "metadata": {},
   "outputs": [],
   "source": []
  }
 ],
 "metadata": {
  "kernelspec": {
   "display_name": "Python 3",
   "language": "python",
   "name": "python3"
  },
  "language_info": {
   "codemirror_mode": {
    "name": "ipython",
    "version": 3
   },
   "file_extension": ".py",
   "mimetype": "text/x-python",
   "name": "python",
   "nbconvert_exporter": "python",
   "pygments_lexer": "ipython3",
   "version": "3.7.1"
  }
 },
 "nbformat": 4,
 "nbformat_minor": 2
}
